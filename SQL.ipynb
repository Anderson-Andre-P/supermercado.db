{
  "nbformat": 4,
  "nbformat_minor": 0,
  "metadata": {
    "colab": {
      "provenance": [],
      "authorship_tag": "ABX9TyNEmfcjFl3dDHnP82HdyjFl",
      "include_colab_link": true
    },
    "kernelspec": {
      "name": "python3",
      "display_name": "Python 3"
    },
    "language_info": {
      "name": "python"
    }
  },
  "cells": [
    {
      "cell_type": "markdown",
      "metadata": {
        "id": "view-in-github",
        "colab_type": "text"
      },
      "source": [
        "<a href=\"https://colab.research.google.com/github/Anderson-Andre-P/supermercado.db/blob/main/SQL.ipynb\" target=\"_parent\"><img src=\"https://colab.research.google.com/assets/colab-badge.svg\" alt=\"Open In Colab\"/></a>"
      ]
    },
    {
      "cell_type": "code",
      "execution_count": 68,
      "metadata": {
        "id": "SxJP6ONdZ_eJ"
      },
      "outputs": [],
      "source": [
        "import sqlite3\n",
        "conn = sqlite3.connect('supermercado.db')"
      ]
    },
    {
      "cell_type": "code",
      "source": [
        "conn.execute(\"\"\"\n",
        "    CREATE TABLE Produtos (\n",
        "    cod INTEGER NOT NULL,\n",
        "    nome VARCHAR(25),\n",
        "    preco REAL,\n",
        "    estoque INTEGER,\n",
        "    PRIMARY KEY (cod)\n",
        ");\n",
        "\"\"\")\n",
        "conn.commit()\n",
        "print('Table Produtos created.')"
      ],
      "metadata": {
        "colab": {
          "base_uri": "https://localhost:8080/"
        },
        "id": "OAtI-rnPaLob",
        "outputId": "6cdce91d-ed31-4f1e-e52c-5186ea3c72cc"
      },
      "execution_count": 69,
      "outputs": [
        {
          "output_type": "stream",
          "name": "stdout",
          "text": [
            "Table Produtos created.\n"
          ]
        }
      ]
    },
    {
      "cell_type": "code",
      "source": [
        "conn.execute(\"\"\"\n",
        "    CREATE TABLE Fornecedores (\n",
        "    cnpj INTEGER NOT NULL,\n",
        "    nome VARCHAR(30),\n",
        "    endereco VARCHAR(30),\n",
        "    tipo CHAR(15) NOT NULL DEFAULT ('Generico'),\n",
        "    PRIMARY KEY (cnpj)\n",
        "    );\n",
        "\"\"\")\n",
        "conn.commit()\n",
        "print('Table Fornecedores created.')"
      ],
      "metadata": {
        "colab": {
          "base_uri": "https://localhost:8080/"
        },
        "id": "3QWWpJKUakKp",
        "outputId": "25a26a82-1777-4520-bcda-180b02d6ac85"
      },
      "execution_count": 70,
      "outputs": [
        {
          "output_type": "stream",
          "name": "stdout",
          "text": [
            "Table Fornecedores created.\n"
          ]
        }
      ]
    },
    {
      "cell_type": "code",
      "source": [
        "conn.execute(\"\"\"\n",
        "    CREATE TABLE Fornecimento (\n",
        "    cod INTEGER,\n",
        "    cnpj INTEGER,\n",
        "    entregue DATE,\n",
        "    PRIMARY KEY (cod , cnpj , entregue),\n",
        "    FOREIGN KEY (cod)\n",
        "        REFERENCES Produtos (cod),\n",
        "    FOREIGN KEY (cnpj)\n",
        "        REFERENCES Fornecedores (cnpj)\n",
        "    );\n",
        "\"\"\")\n",
        "conn.commit()\n",
        "print('Table Fornecimento created.')"
      ],
      "metadata": {
        "colab": {
          "base_uri": "https://localhost:8080/"
        },
        "id": "GdY8CH9-dqjy",
        "outputId": "9e5f1fd0-0fe0-4ec6-a8c3-5c1bc5083ea2"
      },
      "execution_count": 71,
      "outputs": [
        {
          "output_type": "stream",
          "name": "stdout",
          "text": [
            "Table Fornecimento created.\n"
          ]
        }
      ]
    },
    {
      "cell_type": "code",
      "source": [
        "conn.execute(\"\"\"\n",
        "    CREATE TABLE Caixas (\n",
        "    cpf INTEGER NOT NULL,\n",
        "    nome VARCHAR(30),\n",
        "    nascimento YEAR,\n",
        "    endereco VARCHAR(50),\n",
        "    salario REAL,\n",
        "    PRIMARY KEY (cpf)\n",
        "    );\n",
        "\"\"\")\n",
        "conn.commit()\n",
        "print('Table Caixas created.')"
      ],
      "metadata": {
        "colab": {
          "base_uri": "https://localhost:8080/"
        },
        "id": "KRxzmGwDdyNa",
        "outputId": "f4745a89-9fb1-4d61-8b72-06f1139775da"
      },
      "execution_count": 72,
      "outputs": [
        {
          "output_type": "stream",
          "name": "stdout",
          "text": [
            "Table Caixas created.\n"
          ]
        }
      ]
    },
    {
      "cell_type": "code",
      "source": [
        "conn.execute(\"\"\"\n",
        "    CREATE TABLE Vendidos (\n",
        "    cod INTEGER,\n",
        "    cpf INTEGER,\n",
        "    data_venda DATE,\n",
        "    PRIMARY KEY (cod , cpf),\n",
        "    FOREIGN KEY (cod)\n",
        "        REFERENCES Produtos (cod),\n",
        "    FOREIGN KEY (cpf)\n",
        "        REFERENCES Caixas (cpf)\n",
        "    );\n",
        "\"\"\")\n",
        "conn.commit()\n",
        "print('Table Vendidos created.')"
      ],
      "metadata": {
        "colab": {
          "base_uri": "https://localhost:8080/"
        },
        "id": "TRUJ-3ttd7nD",
        "outputId": "5f6b63c3-55ad-478b-bbb2-8fa3e6733aa7"
      },
      "execution_count": 73,
      "outputs": [
        {
          "output_type": "stream",
          "name": "stdout",
          "text": [
            "Table Vendidos created.\n"
          ]
        }
      ]
    },
    {
      "cell_type": "code",
      "source": [
        "conn.execute(\"\"\"\n",
        "    CREATE TABLE Delivery (\n",
        "    cod_entregador INTEGER,\n",
        "    nome_moto VARCHAR(30),\n",
        "    tipo CHAR(15) NOT NULL DEFAULT ('Padrão'),\n",
        "    PRIMARY KEY (cod_entregador)\n",
        "    );\n",
        "\"\"\")\n",
        "conn.commit()\n",
        "print('Table Delivery created.')"
      ],
      "metadata": {
        "colab": {
          "base_uri": "https://localhost:8080/"
        },
        "id": "PAEjfCwBeBCu",
        "outputId": "7064a1db-e2a4-4b94-aeaf-2c76a1cc765b"
      },
      "execution_count": 74,
      "outputs": [
        {
          "output_type": "stream",
          "name": "stdout",
          "text": [
            "Table Delivery created.\n"
          ]
        }
      ]
    },
    {
      "cell_type": "code",
      "source": [
        "conn.execute(\"\"\"\n",
        "    CREATE TABLE Clientes (\n",
        "    id_cli INTEGER NOT NULL,\n",
        "    nome VARCHAR(30),\n",
        "    endereco VARCHAR(50),\n",
        "    desde YEAR,\n",
        "    PRIMARY KEY (id_cli)\n",
        "    );\n",
        "\"\"\")\n",
        "conn.commit()\n",
        "print('Table Clientes created.')"
      ],
      "metadata": {
        "colab": {
          "base_uri": "https://localhost:8080/"
        },
        "id": "mvKtQspBeOmn",
        "outputId": "fa3d13e2-7cae-43cf-9aad-eb5e1fc66e2b"
      },
      "execution_count": 75,
      "outputs": [
        {
          "output_type": "stream",
          "name": "stdout",
          "text": [
            "Table Clientes created.\n"
          ]
        }
      ]
    },
    {
      "cell_type": "code",
      "source": [
        "conn.execute(\"\"\"\n",
        "    CREATE TABLE Controle_Entrega (\n",
        "    cod INTEGER,\n",
        "    cpf INTEGER,\n",
        "    id_cli INTEGER,\n",
        "    cod_entregador INTEGER,\n",
        "    descritivo VARCHAR(100),\n",
        "    PRIMARY KEY (cod , cpf , id_cli , cod_entregador),\n",
        "    FOREIGN KEY (cod , cpf)\n",
        "        REFERENCES Vendidos (cod , cpf),\n",
        "    FOREIGN KEY (id_cli)\n",
        "        REFERENCES Clientes (id_cli),\n",
        "    FOREIGN KEY (cod_entregador)\n",
        "        REFERENCES Delivery (cod_entregador)\n",
        "    );\n",
        "\"\"\")\n",
        "conn.commit()\n",
        "print('Table Controle_Entrega created.')"
      ],
      "metadata": {
        "colab": {
          "base_uri": "https://localhost:8080/"
        },
        "id": "VHVGvHqkeVMS",
        "outputId": "cb612e24-a045-41fe-e507-9005a4803299"
      },
      "execution_count": 76,
      "outputs": [
        {
          "output_type": "stream",
          "name": "stdout",
          "text": [
            "Table Controle_Entrega created.\n"
          ]
        }
      ]
    },
    {
      "cell_type": "code",
      "source": [
        "conn.execute(\"\"\"\n",
        "    insert \n",
        "        into Produtos (nome, preco, estoque)\n",
        "        values\n",
        "            ('Açucar', 1, 150),\n",
        "            ('Presunto', 2, 300),\n",
        "            ('Queijo', 3, 400),\n",
        "            ('Arroz', 30, 500),\n",
        "            ('Feijão', 10, 250),\n",
        "            ('Alface', 1, 150),\n",
        "            ('Carne', 50, 250),\n",
        "            ('Caviar', 500, 3),\n",
        "            ('Cerveja', 3, 1000),\n",
        "            ('Leite', 3, 50),\n",
        "            ('Chocolate', 1, 150),\n",
        "            ('Sabão', 5, 25),\n",
        "            ('Frango', 15, 280),\n",
        "            ('Refrigerante', 6, 230),\n",
        "            ('Macarrão', 4, 150);\n",
        "\"\"\")\n",
        "conn.commit()\n",
        "print('Insert in Produtos.')"
      ],
      "metadata": {
        "colab": {
          "base_uri": "https://localhost:8080/"
        },
        "id": "6lYvdlR4ec4w",
        "outputId": "19ada8c3-640b-4be5-8e3b-f31292857fa9"
      },
      "execution_count": 77,
      "outputs": [
        {
          "output_type": "stream",
          "name": "stdout",
          "text": [
            "Insert in Produtos.\n"
          ]
        }
      ]
    },
    {
      "cell_type": "code",
      "source": [
        "conn.execute(\"\"\"\n",
        "    insert\n",
        "    into Fornecedores (nome, endereco, tipo)\n",
        "    values\n",
        "    ('Carreteiro SA', 'Rua do Arroz doce', 'Grãos'),\n",
        "    ('Clicletinho é quase amor', 'Rua Halls', 'Guloseimas'),\n",
        "    ('Sidra & Conhaque', 'Rua Colarinho', 'Bebidas'),\n",
        "    ('Fazendinha do Cesão', 'Rua Caraguatatuba', 'Açougue');\n",
        "\"\"\")\n",
        "conn.commit()\n",
        "print('Insert in Fornecedores')"
      ],
      "metadata": {
        "colab": {
          "base_uri": "https://localhost:8080/"
        },
        "id": "KM8lcDPQeoNC",
        "outputId": "cd41c795-1c78-46dd-bb18-3fb35e447922"
      },
      "execution_count": 78,
      "outputs": [
        {
          "output_type": "stream",
          "name": "stdout",
          "text": [
            "Insert in Fornecedores\n"
          ]
        }
      ]
    },
    {
      "cell_type": "code",
      "source": [
        "conn.execute(\"\"\"\n",
        "    insert\n",
        "    into Fornecimento (cod, cnpj, entregue)\n",
        "    values\n",
        "    (2, 1, '2021-02-15'),\n",
        "    (3, 1, '2021-01-16'),\n",
        "    (4, 1, '2021-01-15'),\n",
        "    (5, 1, '2021-03-17'),\n",
        "    (6, 4, '2021-01-15'),\n",
        "    (7, 4, '2021-01-15'),\n",
        "    (8, 4, '2021-02-23'),\n",
        "    (9, 4, '2016-02-01'),\n",
        "    (10, 2, '2018-02-03'),\n",
        "    (11, 2, '2019-02-04'),\n",
        "    (12, 2, '2020-12-18'),\n",
        "    (13, 3, '2020-10-15'),\n",
        "    (14, 3, '2020-06-15'),\n",
        "    (15, 3, '2020-02-16'),\n",
        "    (15, 1, '2020-05-15');\n",
        "\"\"\")\n",
        "conn.commit()\n",
        "print('Insert in Fornecimento')"
      ],
      "metadata": {
        "colab": {
          "base_uri": "https://localhost:8080/"
        },
        "id": "_6w1WusWe9se",
        "outputId": "e141452f-e56b-4a87-d356-285408abf508"
      },
      "execution_count": 79,
      "outputs": [
        {
          "output_type": "stream",
          "name": "stdout",
          "text": [
            "Insert in Fornecimento\n"
          ]
        }
      ]
    },
    {
      "cell_type": "code",
      "source": [
        "conn.execute(\"\"\"\n",
        "    insert\n",
        "    into Caixas (nome, nascimento, endereco, salario)\n",
        "    values\n",
        "    ('Xuxa', '1901', 'Planeta Xuxa', 10800),\n",
        "    ('Bin Lado', '1950', 'AfegananisCity', 500),\n",
        "    ('Barack Brahma', '1936', 'Estados da Lado', 2000),\n",
        "    ('Frida Fedrida', '2000', 'Cidade do Mexe', 3000),\n",
        "    ('Angela Mel', '1901', 'Frank Cotia', 1800);\n",
        "\"\"\")\n",
        "conn.commit()\n",
        "print('Insert in Caixas')"
      ],
      "metadata": {
        "colab": {
          "base_uri": "https://localhost:8080/"
        },
        "id": "a0XypEWsfFy2",
        "outputId": "4b438ffc-fe4d-4bdd-8d9d-f81ef488ffb1"
      },
      "execution_count": 80,
      "outputs": [
        {
          "output_type": "stream",
          "name": "stdout",
          "text": [
            "Insert in Caixas\n"
          ]
        }
      ]
    },
    {
      "cell_type": "code",
      "source": [
        "conn.execute(\"\"\"\n",
        "    insert \n",
        "    into Vendidos (cod, cpf, data_venda)\n",
        "    values\n",
        "    (1, 2, '2020-01-01'),\n",
        "    (1, 3, '2021-01-01'),\n",
        "    (2, 4, '2019-01-01'),\n",
        "    (2, 5, '2018-01-01'),\n",
        "    (3, 1, '2016-01-01'),\n",
        "    (3, 2, '2021-01-01'),\n",
        "    (4, 3, '2017-01-01'),\n",
        "    (4, 4, '2016-01-01'),\n",
        "    (5, 4, '2021-01-01'),\n",
        "    (5, 2, '2020-01-02'),\n",
        "    (6, 3, '2021-01-03'),\n",
        "    (6, 4, '2019-01-04'),\n",
        "    (7, 5, '2018-01-05'),\n",
        "    (8, 1, '2016-01-06'),\n",
        "    (9, 2, '2021-01-07'),\n",
        "    (10, 3, '2017-01-08'),\n",
        "    (11, 4, '2016-01-09'),\n",
        "    (12, 4, '2021-01-10');\n",
        "\"\"\")\n",
        "conn.commit()\n",
        "print('Insert in Vendidos.')"
      ],
      "metadata": {
        "colab": {
          "base_uri": "https://localhost:8080/"
        },
        "id": "rAmESD68fMcc",
        "outputId": "aabdd642-ada3-4618-c2f5-6fa23d3136e3"
      },
      "execution_count": 81,
      "outputs": [
        {
          "output_type": "stream",
          "name": "stdout",
          "text": [
            "Insert in Vendidos.\n"
          ]
        }
      ]
    },
    {
      "cell_type": "code",
      "source": [
        "conn.execute(\"\"\"\n",
        "    insert\n",
        "    into Clientes (nome, endereco, desde)\n",
        "    values\n",
        "    ('Ana Albuquerque', 'Rua do Chateu', '2016'),\n",
        "    ('Jose Marmelo', 'Rua Marmelopolis', '2013'),\n",
        "    ('Rogerio Bezerra', 'Rua do Curral', '2018'),\n",
        "    ('Mariana Oliveira', 'Rua do Azeite', '2020'),\n",
        "    ('Francisco Apostolino', 'Rua da Parabola', '2013'),\n",
        "    ('Carla Caxias', 'Rua das Caixas', '2020'),\n",
        "    ('Felipe Tavares', 'Rua da Taverna', '2015'),\n",
        "    ('Bruna Brandão', 'Rua do Arpoador', '2015'),\n",
        "    ('Antonio Mendes', 'Rua do Pescador', '2017');\n",
        "\"\"\")\n",
        "conn.commit()\n",
        "print('Insert in Clientes.')"
      ],
      "metadata": {
        "colab": {
          "base_uri": "https://localhost:8080/"
        },
        "id": "K201c2zffUAQ",
        "outputId": "e33a6cd9-f481-466b-98aa-28e8c24b5725"
      },
      "execution_count": 82,
      "outputs": [
        {
          "output_type": "stream",
          "name": "stdout",
          "text": [
            "Insert in Clientes.\n"
          ]
        }
      ]
    },
    {
      "cell_type": "code",
      "source": [
        "conn.execute(\"\"\"\n",
        "    insert \n",
        "    into Delivery (nome_moto, tipo)\n",
        "    values\n",
        "    ('iFood', 'FDS'),\n",
        "    ('iFood', 'Diurna'),\n",
        "    ('iFood', 'Noturna'),\n",
        "    ('iFood', 'Expres'),\n",
        "    ('aiqFome', 'FDS'),\n",
        "    ('aiqFome', 'Diurna'),\n",
        "    ('aiqFome', 'Noturna'),\n",
        "    ('Tonho da Biz', 'Expres'),\n",
        "    ('Tonho da Biz', 'FDS'),\n",
        "    ('Tonho da Biz', 'Diurna'),\n",
        "    ('Tonho da Biz', 'Noturna'),\n",
        "    ('Tonho da Biz', 'Expres');\n",
        "\"\"\")\n",
        "conn.commit()\n",
        "print('Insert in Delivery.')"
      ],
      "metadata": {
        "colab": {
          "base_uri": "https://localhost:8080/"
        },
        "id": "sUuDXhvbfcdK",
        "outputId": "90ae79e1-e15f-4f62-cb84-b6648e6c5a58"
      },
      "execution_count": 83,
      "outputs": [
        {
          "output_type": "stream",
          "name": "stdout",
          "text": [
            "Insert in Delivery.\n"
          ]
        }
      ]
    },
    {
      "cell_type": "code",
      "source": [
        "conn.execute(\"\"\"\n",
        "    insert\n",
        "    into Controle_Entrega (cod, cpf, id_cli, cod_entregador, descritivo)\n",
        "    values\n",
        "    (1,2, 1, 2, 'Entregue'),\n",
        "    (1,3, 2, 3, 'Entregue'),\n",
        "    (2,4, 3, 4, 'Entregue'),\n",
        "    (2,5, 4, 5, 'Entregue'),\n",
        "    (3,1, 5, 6, 'Entregue'),\n",
        "    (3,2, 6, 7, 'Entregue'),\n",
        "    (4,3, 7, 8, 'Entregue'),\n",
        "    (4,4, 8, 9, 'Entregue'),\n",
        "    (5,2, 9, 10, 'Entregue'),\n",
        "    (5,4, 1, 11, 'Entregue'),\n",
        "    (6,3, 2, 12, 'Entregue'),\n",
        "    (6,4, 3, 1, 'Entregue'),\n",
        "    (7,5, 4, 2, 'Entregue');\n",
        "\"\"\")\n",
        "conn.commit()\n",
        "print('Insert in Controle_Entrega.')"
      ],
      "metadata": {
        "colab": {
          "base_uri": "https://localhost:8080/"
        },
        "id": "XEJAuDc7fivI",
        "outputId": "1c598d7c-12e1-488b-c08c-9c1b8b346e26"
      },
      "execution_count": 84,
      "outputs": [
        {
          "output_type": "stream",
          "name": "stdout",
          "text": [
            "Insert in Controle_Entrega.\n"
          ]
        }
      ]
    },
    {
      "cell_type": "code",
      "source": [
        "conn = sqlite3.connect('supermercado.db')\n",
        "print('Conectado no db supermercado.db')"
      ],
      "metadata": {
        "colab": {
          "base_uri": "https://localhost:8080/"
        },
        "id": "o9i2pOZqhVPd",
        "outputId": "e1d6a6d4-db69-41d9-f073-2881ff76c2df"
      },
      "execution_count": 85,
      "outputs": [
        {
          "output_type": "stream",
          "name": "stdout",
          "text": [
            "Conectado no db supermercado.db\n"
          ]
        }
      ]
    },
    {
      "cell_type": "code",
      "source": [
        "\n",
        "cursor = conn.execute(\"SELECT * from Delivery\")\n",
        "\n",
        "for row in cursor:\n",
        "    print(row)"
      ],
      "metadata": {
        "colab": {
          "base_uri": "https://localhost:8080/"
        },
        "id": "-92TIuWYfyRn",
        "outputId": "53cd0283-54ca-4a62-9895-dc7740d775de"
      },
      "execution_count": 86,
      "outputs": [
        {
          "output_type": "stream",
          "name": "stdout",
          "text": [
            "(1, 'iFood', 'FDS')\n",
            "(2, 'iFood', 'Diurna')\n",
            "(3, 'iFood', 'Noturna')\n",
            "(4, 'iFood', 'Expres')\n",
            "(5, 'aiqFome', 'FDS')\n",
            "(6, 'aiqFome', 'Diurna')\n",
            "(7, 'aiqFome', 'Noturna')\n",
            "(8, 'Tonho da Biz', 'Expres')\n",
            "(9, 'Tonho da Biz', 'FDS')\n",
            "(10, 'Tonho da Biz', 'Diurna')\n",
            "(11, 'Tonho da Biz', 'Noturna')\n",
            "(12, 'Tonho da Biz', 'Expres')\n"
          ]
        }
      ]
    },
    {
      "cell_type": "code",
      "source": [
        "cursor = conn.execute(\"SELECT * from Produtos\")\n",
        "\n",
        "for row in cursor:\n",
        "    print(row)"
      ],
      "metadata": {
        "colab": {
          "base_uri": "https://localhost:8080/"
        },
        "id": "n8Pxa5pWgvi2",
        "outputId": "ddfbc43e-0d90-4a43-aac0-237e2f78b16e"
      },
      "execution_count": 87,
      "outputs": [
        {
          "output_type": "stream",
          "name": "stdout",
          "text": [
            "(1, 'Açucar', 1.0, 150)\n",
            "(2, 'Presunto', 2.0, 300)\n",
            "(3, 'Queijo', 3.0, 400)\n",
            "(4, 'Arroz', 30.0, 500)\n",
            "(5, 'Feijão', 10.0, 250)\n",
            "(6, 'Alface', 1.0, 150)\n",
            "(7, 'Carne', 50.0, 250)\n",
            "(8, 'Caviar', 500.0, 3)\n",
            "(9, 'Cerveja', 3.0, 1000)\n",
            "(10, 'Leite', 3.0, 50)\n",
            "(11, 'Chocolate', 1.0, 150)\n",
            "(12, 'Sabão', 5.0, 25)\n",
            "(13, 'Frango', 15.0, 280)\n",
            "(14, 'Refrigerante', 6.0, 230)\n",
            "(15, 'Macarrão', 4.0, 150)\n"
          ]
        }
      ]
    },
    {
      "cell_type": "code",
      "source": [
        "cursor = conn.execute(\"SELECT * from Fornecedores\")\n",
        "\n",
        "for row in cursor:\n",
        "    print(row)"
      ],
      "metadata": {
        "colab": {
          "base_uri": "https://localhost:8080/"
        },
        "id": "AJcwW5WbgxZe",
        "outputId": "047b85f5-173e-4d91-df3c-24a54932ca3a"
      },
      "execution_count": 88,
      "outputs": [
        {
          "output_type": "stream",
          "name": "stdout",
          "text": [
            "(1, 'Carreteiro SA', 'Rua do Arroz doce', 'Grãos')\n",
            "(2, 'Clicletinho é quase amor', 'Rua Halls', 'Guloseimas')\n",
            "(3, 'Sidra & Conhaque', 'Rua Colarinho', 'Bebidas')\n",
            "(4, 'Fazendinha do Cesão', 'Rua Caraguatatuba', 'Açougue')\n"
          ]
        }
      ]
    },
    {
      "cell_type": "code",
      "source": [
        "cursor = conn.execute(\"SELECT * from Fornecimento\")\n",
        "\n",
        "for row in cursor:\n",
        "    print(row)"
      ],
      "metadata": {
        "colab": {
          "base_uri": "https://localhost:8080/"
        },
        "id": "zNkcNOZlgx9F",
        "outputId": "08a88b04-ec8b-4af0-8051-4c798435beb6"
      },
      "execution_count": 89,
      "outputs": [
        {
          "output_type": "stream",
          "name": "stdout",
          "text": [
            "(2, 1, '2021-02-15')\n",
            "(3, 1, '2021-01-16')\n",
            "(4, 1, '2021-01-15')\n",
            "(5, 1, '2021-03-17')\n",
            "(6, 4, '2021-01-15')\n",
            "(7, 4, '2021-01-15')\n",
            "(8, 4, '2021-02-23')\n",
            "(9, 4, '2016-02-01')\n",
            "(10, 2, '2018-02-03')\n",
            "(11, 2, '2019-02-04')\n",
            "(12, 2, '2020-12-18')\n",
            "(13, 3, '2020-10-15')\n",
            "(14, 3, '2020-06-15')\n",
            "(15, 3, '2020-02-16')\n",
            "(15, 1, '2020-05-15')\n"
          ]
        }
      ]
    },
    {
      "cell_type": "code",
      "source": [
        "cursor = conn.execute(\"SELECT * from Caixas\")\n",
        "\n",
        "for row in cursor:\n",
        "    print(row)"
      ],
      "metadata": {
        "colab": {
          "base_uri": "https://localhost:8080/"
        },
        "id": "nt2u1hYjgylc",
        "outputId": "bc680c21-1488-446f-cfa5-f32b7efb1f4f"
      },
      "execution_count": 90,
      "outputs": [
        {
          "output_type": "stream",
          "name": "stdout",
          "text": [
            "(1, 'Xuxa', 1901, 'Planeta Xuxa', 10800.0)\n",
            "(2, 'Bin Lado', 1950, 'AfegananisCity', 500.0)\n",
            "(3, 'Barack Brahma', 1936, 'Estados da Lado', 2000.0)\n",
            "(4, 'Frida Fedrida', 2000, 'Cidade do Mexe', 3000.0)\n",
            "(5, 'Angela Mel', 1901, 'Frank Cotia', 1800.0)\n"
          ]
        }
      ]
    },
    {
      "cell_type": "code",
      "source": [
        "cursor = conn.execute(\"SELECT * from Vendidos\")\n",
        "\n",
        "for row in cursor:\n",
        "    print(row)"
      ],
      "metadata": {
        "colab": {
          "base_uri": "https://localhost:8080/"
        },
        "id": "grotRS1rg8Lz",
        "outputId": "4ab93ddd-099b-4d0d-c1a0-bc70f58fb275"
      },
      "execution_count": 91,
      "outputs": [
        {
          "output_type": "stream",
          "name": "stdout",
          "text": [
            "(1, 2, '2020-01-01')\n",
            "(1, 3, '2021-01-01')\n",
            "(2, 4, '2019-01-01')\n",
            "(2, 5, '2018-01-01')\n",
            "(3, 1, '2016-01-01')\n",
            "(3, 2, '2021-01-01')\n",
            "(4, 3, '2017-01-01')\n",
            "(4, 4, '2016-01-01')\n",
            "(5, 4, '2021-01-01')\n",
            "(5, 2, '2020-01-02')\n",
            "(6, 3, '2021-01-03')\n",
            "(6, 4, '2019-01-04')\n",
            "(7, 5, '2018-01-05')\n",
            "(8, 1, '2016-01-06')\n",
            "(9, 2, '2021-01-07')\n",
            "(10, 3, '2017-01-08')\n",
            "(11, 4, '2016-01-09')\n",
            "(12, 4, '2021-01-10')\n"
          ]
        }
      ]
    },
    {
      "cell_type": "code",
      "source": [
        "cursor = conn.execute(\"SELECT * from Clientes\")\n",
        "\n",
        "for row in cursor:\n",
        "    print(row)"
      ],
      "metadata": {
        "colab": {
          "base_uri": "https://localhost:8080/"
        },
        "id": "bVz6yd5Vg97x",
        "outputId": "48f99c90-58dd-4b70-abe3-8228c4c0a3c8"
      },
      "execution_count": 92,
      "outputs": [
        {
          "output_type": "stream",
          "name": "stdout",
          "text": [
            "(1, 'Ana Albuquerque', 'Rua do Chateu', 2016)\n",
            "(2, 'Jose Marmelo', 'Rua Marmelopolis', 2013)\n",
            "(3, 'Rogerio Bezerra', 'Rua do Curral', 2018)\n",
            "(4, 'Mariana Oliveira', 'Rua do Azeite', 2020)\n",
            "(5, 'Francisco Apostolino', 'Rua da Parabola', 2013)\n",
            "(6, 'Carla Caxias', 'Rua das Caixas', 2020)\n",
            "(7, 'Felipe Tavares', 'Rua da Taverna', 2015)\n",
            "(8, 'Bruna Brandão', 'Rua do Arpoador', 2015)\n",
            "(9, 'Antonio Mendes', 'Rua do Pescador', 2017)\n"
          ]
        }
      ]
    },
    {
      "cell_type": "code",
      "source": [
        "cursor = conn.execute(\"SELECT * from Delivery\")\n",
        "\n",
        "for row in cursor:\n",
        "    print(row)"
      ],
      "metadata": {
        "colab": {
          "base_uri": "https://localhost:8080/"
        },
        "id": "w919sBSJg_Vp",
        "outputId": "a62a4c57-bb6b-4463-cf27-6b8681032f3f"
      },
      "execution_count": 93,
      "outputs": [
        {
          "output_type": "stream",
          "name": "stdout",
          "text": [
            "(1, 'iFood', 'FDS')\n",
            "(2, 'iFood', 'Diurna')\n",
            "(3, 'iFood', 'Noturna')\n",
            "(4, 'iFood', 'Expres')\n",
            "(5, 'aiqFome', 'FDS')\n",
            "(6, 'aiqFome', 'Diurna')\n",
            "(7, 'aiqFome', 'Noturna')\n",
            "(8, 'Tonho da Biz', 'Expres')\n",
            "(9, 'Tonho da Biz', 'FDS')\n",
            "(10, 'Tonho da Biz', 'Diurna')\n",
            "(11, 'Tonho da Biz', 'Noturna')\n",
            "(12, 'Tonho da Biz', 'Expres')\n"
          ]
        }
      ]
    },
    {
      "cell_type": "code",
      "source": [
        "cursor = conn.execute(\"SELECT * from Controle_Entrega\")\n",
        "\n",
        "for row in cursor:\n",
        "    print(row)"
      ],
      "metadata": {
        "colab": {
          "base_uri": "https://localhost:8080/"
        },
        "id": "TlEnekobhDrA",
        "outputId": "5c70bce3-9e35-4d94-8ef8-20e6418181e2"
      },
      "execution_count": 94,
      "outputs": [
        {
          "output_type": "stream",
          "name": "stdout",
          "text": [
            "(1, 2, 1, 2, 'Entregue')\n",
            "(1, 3, 2, 3, 'Entregue')\n",
            "(2, 4, 3, 4, 'Entregue')\n",
            "(2, 5, 4, 5, 'Entregue')\n",
            "(3, 1, 5, 6, 'Entregue')\n",
            "(3, 2, 6, 7, 'Entregue')\n",
            "(4, 3, 7, 8, 'Entregue')\n",
            "(4, 4, 8, 9, 'Entregue')\n",
            "(5, 2, 9, 10, 'Entregue')\n",
            "(5, 4, 1, 11, 'Entregue')\n",
            "(6, 3, 2, 12, 'Entregue')\n",
            "(6, 4, 3, 1, 'Entregue')\n",
            "(7, 5, 4, 2, 'Entregue')\n"
          ]
        }
      ]
    },
    {
      "cell_type": "code",
      "source": [
        "# Não consegui rodar essa procedure...\n",
        "\n",
        "# conn.execute(\"\"\"\n",
        "#     CREATE PROCEDURE entrega_de_produto ()\n",
        "# BEGIN\n",
        "# \tselect DE.nome_moto, CLI.nome, CON.descritivo\n",
        "# \tfrom delivery as DE, clientes as CLI, controle_entrega as CON\n",
        "# \twhere DE.cod_entregador = CON.cod_entregador and CON.id_cli = CLI.id_cli;\n",
        "# END;\n",
        "# \"\"\")\n",
        "# conn.commit()\n",
        "# print('Procedure executada')"
      ],
      "metadata": {
        "colab": {
          "base_uri": "https://localhost:8080/",
          "height": 235
        },
        "id": "Y-LGSXAFiSSa",
        "outputId": "9cd1433d-f3ca-461e-c829-4dd2104ea332"
      },
      "execution_count": 95,
      "outputs": [
        {
          "output_type": "error",
          "ename": "OperationalError",
          "evalue": "ignored",
          "traceback": [
            "\u001b[0;31m---------------------------------------------------------------------------\u001b[0m",
            "\u001b[0;31mOperationalError\u001b[0m                          Traceback (most recent call last)",
            "\u001b[0;32m<ipython-input-95-6b89772c7ba8>\u001b[0m in \u001b[0;36m<module>\u001b[0;34m\u001b[0m\n\u001b[0;32m----> 1\u001b[0;31m conn.execute(\"\"\"\n\u001b[0m\u001b[1;32m      2\u001b[0m     \u001b[0mCREATE\u001b[0m \u001b[0mPROCEDURE\u001b[0m \u001b[0mentrega_de_produto\u001b[0m \u001b[0;34m(\u001b[0m\u001b[0;34m)\u001b[0m\u001b[0;34m\u001b[0m\u001b[0;34m\u001b[0m\u001b[0m\n\u001b[1;32m      3\u001b[0m \u001b[0mBEGIN\u001b[0m\u001b[0;34m\u001b[0m\u001b[0;34m\u001b[0m\u001b[0m\n\u001b[1;32m      4\u001b[0m         \u001b[0mselect\u001b[0m \u001b[0mDE\u001b[0m\u001b[0;34m.\u001b[0m\u001b[0mnome_moto\u001b[0m\u001b[0;34m,\u001b[0m \u001b[0mCLI\u001b[0m\u001b[0;34m.\u001b[0m\u001b[0mnome\u001b[0m\u001b[0;34m,\u001b[0m \u001b[0mCON\u001b[0m\u001b[0;34m.\u001b[0m\u001b[0mdescritivo\u001b[0m\u001b[0;34m\u001b[0m\u001b[0;34m\u001b[0m\u001b[0m\n\u001b[1;32m      5\u001b[0m         \u001b[0;32mfrom\u001b[0m \u001b[0mdelivery\u001b[0m \u001b[0;32mas\u001b[0m \u001b[0mDE\u001b[0m\u001b[0;34m,\u001b[0m \u001b[0mclientes\u001b[0m \u001b[0;32mas\u001b[0m \u001b[0mCLI\u001b[0m\u001b[0;34m,\u001b[0m \u001b[0mcontrole_entrega\u001b[0m \u001b[0;32mas\u001b[0m \u001b[0mCON\u001b[0m\u001b[0;34m\u001b[0m\u001b[0;34m\u001b[0m\u001b[0m\n",
            "\u001b[0;31mOperationalError\u001b[0m: near \"PROCEDURE\": syntax error"
          ]
        }
      ]
    }
  ]
}